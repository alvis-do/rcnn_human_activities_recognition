{
 "cells": [
  {
   "cell_type": "code",
   "execution_count": 1,
   "metadata": {},
   "outputs": [
    {
     "name": "stdout",
     "output_type": "stream",
     "text": [
      "Requirement already satisfied: glop in /home/vudhk/.local/lib/python3.6/site-packages (0.1.1)\n",
      "\u001b[33mYou are using pip version 10.0.1, however version 18.1 is available.\n",
      "You should consider upgrading via the 'pip install --upgrade pip' command.\u001b[0m\n",
      "Requirement already satisfied: matplotlib in /usr/local/lib/python3.6/dist-packages (2.2.2)\n",
      "Requirement already satisfied: python-dateutil>=2.1 in /usr/local/lib/python3.6/dist-packages (from matplotlib) (2.7.3)\n",
      "Requirement already satisfied: pyparsing!=2.0.4,!=2.1.2,!=2.1.6,>=2.0.1 in /usr/lib/python3/dist-packages (from matplotlib) (2.2.0)\n",
      "Requirement already satisfied: six>=1.10 in /home/vudhk/.local/lib/python3.6/site-packages (from matplotlib) (1.11.0)\n",
      "Requirement already satisfied: cycler>=0.10 in /usr/local/lib/python3.6/dist-packages (from matplotlib) (0.10.0)\n",
      "Requirement already satisfied: kiwisolver>=1.0.1 in /usr/local/lib/python3.6/dist-packages (from matplotlib) (1.0.1)\n",
      "Requirement already satisfied: pytz in /usr/lib/python3/dist-packages (from matplotlib) (2018.3)\n",
      "Requirement already satisfied: numpy>=1.7.1 in /home/vudhk/.local/lib/python3.6/site-packages (from matplotlib) (1.14.3)\n",
      "Requirement already satisfied: setuptools in /home/vudhk/.local/lib/python3.6/site-packages (from kiwisolver>=1.0.1->matplotlib) (39.1.0)\n",
      "\u001b[33mYou are using pip version 10.0.1, however version 18.1 is available.\n",
      "You should consider upgrading via the 'pip install --upgrade pip' command.\u001b[0m\n"
     ]
    }
   ],
   "source": [
    "import sys\n",
    "!{sys.executable} -m pip install --user glop\n",
    "!{sys.executable} -m pip install --user matplotlib"
   ]
  },
  {
   "cell_type": "code",
   "execution_count": 2,
   "metadata": {},
   "outputs": [],
   "source": [
    "import numpy as np\n",
    "import glob\n",
    "from PIL import Image\n",
    "from matplotlib.pyplot import imshow\n",
    "#from IPython.display import Image\n",
    "%matplotlib inline"
   ]
  },
  {
   "cell_type": "code",
   "execution_count": 3,
   "metadata": {},
   "outputs": [],
   "source": [
    "dataset_folder = '../dataset/human-action-dataset/'\n",
    "n_classes = 4\n",
    "new_size = 224"
   ]
  },
  {
   "cell_type": "code",
   "execution_count": 4,
   "metadata": {},
   "outputs": [],
   "source": [
    "def txt2array(file_name):\n",
    "    file = open(file_name,'r')\n",
    "    result = np.zeros([7,7,9])\n",
    "    offset = 1/7\n",
    "    for line in file:\n",
    "        num = list(map(float, line.split()))\n",
    "        #print(num)\n",
    "        x = int(num[1]/offset)\n",
    "        x = 6 if x >= 1 else x\n",
    "        y = int(num[2]/offset)\n",
    "        y = 6 if y >= 1 else x\n",
    "        tmp = num[1:]\n",
    "        onehot = [0]*n_classes\n",
    "        onehot[int(num[0])]=1\n",
    "        tmp.append(1)\n",
    "        tmp.extend(onehot)\n",
    "        #print(file_name)\n",
    "        #print(tmp)\n",
    "        result[x,y] = tmp\n",
    "        #print (result[x, y])\n",
    "    return result"
   ]
  },
  {
   "cell_type": "code",
   "execution_count": 5,
   "metadata": {},
   "outputs": [],
   "source": [
    "def preprocess(func, file_type, file_name_data):\n",
    "    small_train_copy = open(file_name_data, 'r')\n",
    "    files = []\n",
    "    for f in small_train_copy:\n",
    "        f_name = f.split('/')[-1].split('.')[0]\n",
    "        files.append(dataset_folder + f_name + \".\" + file_type)\n",
    "\n",
    "    #print(files)\n",
    "    data = np.array(list(map(func, files)))\n",
    "    return data\n",
    "    #print(len(data))"
   ]
  },
  {
   "cell_type": "code",
   "execution_count": 6,
   "metadata": {},
   "outputs": [],
   "source": [
    "def img_process(path):\n",
    "    img = Image.open(path)\n",
    "    rs_img = img.resize((new_size, new_size),Image.ANTIALIAS)\n",
    "    rs_img = np.array(rs_img)\n",
    "    #imshow(aimg)\n",
    "    return rs_img"
   ]
  },
  {
   "cell_type": "code",
   "execution_count": 7,
   "metadata": {},
   "outputs": [],
   "source": [
    "x_train = preprocess(img_process, \"jpg\", \"small-train-copy.txt\");\n",
    "y_train = preprocess(txt2array, \"txt\", \"small-train-copy.txt\");\n",
    "\n",
    "x_test = preprocess(img_process, \"jpg\", \"small-test-copy.txt\");\n",
    "y_test = preprocess(txt2array, \"txt\", \"small-test-copy.txt\");"
   ]
  },
  {
   "cell_type": "code",
   "execution_count": 8,
   "metadata": {},
   "outputs": [],
   "source": [
    "dic = {'X_train':x_train,'y_train':y_train,'X_test':x_test,'y_test':y_test}\n",
    "np.save('../dataset/my_dict.npy',dic)"
   ]
  },
  {
   "cell_type": "code",
   "execution_count": 9,
   "metadata": {},
   "outputs": [
    {
     "data": {
      "text/plain": [
       "(1742, 224, 224, 3)"
      ]
     },
     "execution_count": 9,
     "metadata": {},
     "output_type": "execute_result"
    }
   ],
   "source": [
    "my_dict = np.load('../dataset/my_dict.npy').item()\n",
    "my_dict['X_train'].shape"
   ]
  },
  {
   "cell_type": "code",
   "execution_count": null,
   "metadata": {},
   "outputs": [],
   "source": []
  }
 ],
 "metadata": {
  "kernelspec": {
   "display_name": "Python 3",
   "language": "python",
   "name": "python3"
  },
  "language_info": {
   "codemirror_mode": {
    "name": "ipython",
    "version": 3
   },
   "file_extension": ".py",
   "mimetype": "text/x-python",
   "name": "python",
   "nbconvert_exporter": "python",
   "pygments_lexer": "ipython3",
   "version": "3.6.5"
  }
 },
 "nbformat": 4,
 "nbformat_minor": 2
}

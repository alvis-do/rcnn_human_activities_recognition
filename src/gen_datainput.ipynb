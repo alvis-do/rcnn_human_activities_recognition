{
 "cells": [
  {
   "cell_type": "code",
   "execution_count": 7,
   "metadata": {},
   "outputs": [
    {
     "name": "stdout",
     "output_type": "stream",
     "text": [
      "Requirement already satisfied: sklearn in /home/vudhk/.local/lib/python3.6/site-packages (0.0)\n",
      "Requirement already satisfied: scikit-learn in /home/vudhk/.local/lib/python3.6/site-packages (from sklearn) (0.20.0)\n",
      "Requirement already satisfied: scipy>=0.13.3 in /usr/local/lib/python3.6/dist-packages (from scikit-learn->sklearn) (1.1.0)\n",
      "Requirement already satisfied: numpy>=1.8.2 in /home/vudhk/.local/lib/python3.6/site-packages (from scikit-learn->sklearn) (1.14.3)\n",
      "\u001b[33mYou are using pip version 10.0.1, however version 18.1 is available.\n",
      "You should consider upgrading via the 'pip install --upgrade pip' command.\u001b[0m\n",
      "Collecting keras\n",
      "\u001b[?25l  Downloading https://files.pythonhosted.org/packages/5e/10/aa32dad071ce52b5502266b5c659451cfd6ffcbf14e6c8c4f16c0ff5aaab/Keras-2.2.4-py2.py3-none-any.whl (312kB)\n",
      "\u001b[K    100% |████████████████████████████████| 317kB 2.1MB/s ta 0:00:01\n",
      "\u001b[?25hRequirement already satisfied: numpy>=1.9.1 in /home/vudhk/.local/lib/python3.6/site-packages (from keras) (1.14.3)\n",
      "Collecting keras-applications>=1.0.6 (from keras)\n",
      "\u001b[?25l  Downloading https://files.pythonhosted.org/packages/3f/c4/2ff40221029f7098d58f8d7fb99b97e8100f3293f9856f0fb5834bef100b/Keras_Applications-1.0.6-py2.py3-none-any.whl (44kB)\n",
      "\u001b[K    100% |████████████████████████████████| 51kB 6.6MB/s ta 0:00:011\n",
      "\u001b[?25hRequirement already satisfied: six>=1.9.0 in /home/vudhk/.local/lib/python3.6/site-packages (from keras) (1.11.0)\n",
      "Collecting h5py (from keras)\n",
      "\u001b[?25l  Downloading https://files.pythonhosted.org/packages/8e/cb/726134109e7bd71d98d1fcc717ffe051767aac42ede0e7326fd1787e5d64/h5py-2.8.0-cp36-cp36m-manylinux1_x86_64.whl (2.8MB)\n",
      "\u001b[K    100% |████████████████████████████████| 2.8MB 1.7MB/s ta 0:00:011\n",
      "\u001b[?25hRequirement already satisfied: scipy>=0.14 in /usr/local/lib/python3.6/dist-packages (from keras) (1.1.0)\n",
      "Requirement already satisfied: pyyaml in /usr/lib/python3/dist-packages (from keras) (3.12)\n",
      "Collecting keras-preprocessing>=1.0.5 (from keras)\n",
      "  Downloading https://files.pythonhosted.org/packages/fc/94/74e0fa783d3fc07e41715973435dd051ca89c550881b3454233c39c73e69/Keras_Preprocessing-1.0.5-py2.py3-none-any.whl\n",
      "Installing collected packages: h5py, keras-applications, keras-preprocessing, keras\n",
      "Successfully installed h5py-2.8.0 keras-2.2.4 keras-applications-1.0.6 keras-preprocessing-1.0.5\n",
      "\u001b[33mYou are using pip version 10.0.1, however version 18.1 is available.\n",
      "You should consider upgrading via the 'pip install --upgrade pip' command.\u001b[0m\n"
     ]
    }
   ],
   "source": [
    "import sys\n",
    "!{sys.executable} -m pip install --user sklearn\n",
    "!{sys.executable} -m pip install --user keras"
   ]
  },
  {
   "cell_type": "code",
   "execution_count": 30,
   "metadata": {},
   "outputs": [],
   "source": [
    "import numpy as np\n",
    "import pandas as pd\n",
    "import matplotlib\n",
    "import matplotlib.pyplot as plt\n",
    "import tensorflow as tf  # Version 1.0.0 (some previous versions are used in past commits)\n",
    "from sklearn import metrics\n",
    "from sklearn.model_selection import train_test_split\n",
    "import os"
   ]
  },
  {
   "cell_type": "code",
   "execution_count": 4,
   "metadata": {},
   "outputs": [
    {
     "data": {
      "text/html": [
       "<div>\n",
       "<style scoped>\n",
       "    .dataframe tbody tr th:only-of-type {\n",
       "        vertical-align: middle;\n",
       "    }\n",
       "\n",
       "    .dataframe tbody tr th {\n",
       "        vertical-align: top;\n",
       "    }\n",
       "\n",
       "    .dataframe thead th {\n",
       "        text-align: right;\n",
       "    }\n",
       "</style>\n",
       "<table border=\"1\" class=\"dataframe\">\n",
       "  <thead>\n",
       "    <tr style=\"text-align: right;\">\n",
       "      <th></th>\n",
       "      <th>Unnamed: 0</th>\n",
       "      <th>output</th>\n",
       "      <th>varr</th>\n",
       "    </tr>\n",
       "  </thead>\n",
       "  <tbody>\n",
       "    <tr>\n",
       "      <th>0</th>\n",
       "      <td>0</td>\n",
       "      <td>basketball_shooting</td>\n",
       "      <td>basketball_shooting basketball_shooting basket...</td>\n",
       "    </tr>\n",
       "    <tr>\n",
       "      <th>1</th>\n",
       "      <td>1</td>\n",
       "      <td>basketball_shooting</td>\n",
       "      <td>basketball_shooting basketball_shooting biking...</td>\n",
       "    </tr>\n",
       "    <tr>\n",
       "      <th>2</th>\n",
       "      <td>2</td>\n",
       "      <td>basketball_shooting</td>\n",
       "      <td>basketball_shooting basketball_shooting basket...</td>\n",
       "    </tr>\n",
       "    <tr>\n",
       "      <th>3</th>\n",
       "      <td>3</td>\n",
       "      <td>basketball_shooting</td>\n",
       "      <td>basketball_shooting golf_swing golf_swing bask...</td>\n",
       "    </tr>\n",
       "    <tr>\n",
       "      <th>4</th>\n",
       "      <td>4</td>\n",
       "      <td>basketball_shooting</td>\n",
       "      <td>basketball_shooting basketball_shooting basket...</td>\n",
       "    </tr>\n",
       "  </tbody>\n",
       "</table>\n",
       "</div>"
      ],
      "text/plain": [
       "   Unnamed: 0               output  \\\n",
       "0           0  basketball_shooting   \n",
       "1           1  basketball_shooting   \n",
       "2           2  basketball_shooting   \n",
       "3           3  basketball_shooting   \n",
       "4           4  basketball_shooting   \n",
       "\n",
       "                                                varr  \n",
       "0  basketball_shooting basketball_shooting basket...  \n",
       "1  basketball_shooting basketball_shooting biking...  \n",
       "2  basketball_shooting basketball_shooting basket...  \n",
       "3  basketball_shooting golf_swing golf_swing bask...  \n",
       "4  basketball_shooting basketball_shooting basket...  "
      ]
     },
     "execution_count": 4,
     "metadata": {},
     "output_type": "execute_result"
    }
   ],
   "source": [
    "df = pd.read_csv(\"actions.csv\")\n",
    "df.head(5)"
   ]
  },
  {
   "cell_type": "code",
   "execution_count": 25,
   "metadata": {},
   "outputs": [],
   "source": [
    "GPU_CUDNN = 0\n",
    "CPU = 1"
   ]
  },
  {
   "cell_type": "code",
   "execution_count": 11,
   "metadata": {},
   "outputs": [],
   "source": [
    "#LABELS = np.unique(df.output)\n",
    "LABELS = [\n",
    "    \"basketball_shooting\",\n",
    "    \"biking\",\n",
    "    \"diving\",\n",
    "    \"golf_swing\"\n",
    "]\n",
    "n_classes = len(LABELS)"
   ]
  },
  {
   "cell_type": "code",
   "execution_count": 14,
   "metadata": {},
   "outputs": [],
   "source": [
    "X = df.varr\n",
    "Y = df.output"
   ]
  },
  {
   "cell_type": "code",
   "execution_count": 19,
   "metadata": {},
   "outputs": [
    {
     "data": {
      "text/plain": [
       "369    golf_swing basketball_shooting golf_swing golf...\n",
       "313    golf_swing biking golf_swing golf_swing golf_s...\n",
       "226    biking diving golf_swing diving diving diving ...\n",
       "255    basketball_shooting diving diving diving divin...\n",
       "12     basketball_shooting basketball_shooting basket...\n",
       "Name: varr, dtype: object"
      ]
     },
     "execution_count": 19,
     "metadata": {},
     "output_type": "execute_result"
    }
   ],
   "source": [
    "X_train,X_test,Y_train,Y_test = train_test_split(X,Y,test_size=0.15)\n",
    "X_train.head(5)"
   ]
  },
  {
   "cell_type": "code",
   "execution_count": 24,
   "metadata": {},
   "outputs": [],
   "source": [
    "training_data_count = len(X_train)\n",
    "test_data_count = len(X_test)\n",
    "\n",
    "n_hidden = 256\n",
    "\n",
    "training_params = {\n",
    "    'learning_rate' : 0.0025,\n",
    "    'lambda_loss_amount': 0.0015,\n",
    "    'training_iters' : training_data_count * 300,\n",
    "    'batch_size': 1500,\n",
    "    'display_iter': 30000\n",
    "}"
   ]
  },
  {
   "cell_type": "code",
   "execution_count": null,
   "metadata": {},
   "outputs": [],
   "source": [
    "def CNN_model(X, isTraining, num_classes):\n",
    "    pass"
   ]
  },
  {
   "cell_type": "code",
   "execution_count": 27,
   "metadata": {},
   "outputs": [],
   "source": [
    "def LSTM_model(X, weights, biases, isTraining, num_classes):\n",
    "    # Preprocess data input\n",
    "    \n",
    "    # Create LSTM cell\n",
    "    lstm_cell = None;\n",
    "    if CPU:\n",
    "        lstm_cell = tf.contrib.rnn.LSTMBlockCell(n_hidden, \n",
    "                                                forget_bias=1.0)\n",
    "    elif GPU_CUDNN:\n",
    "        lstm_cell = tf.contrib.cudnn_rnn.CudnnLSTM(num_layers=1, \n",
    "                                                   num_units=n_hidden,\n",
    "                                                   kernel_initializer=tf.initializers.random_uniform(-0.01, 0.01),\n",
    "                                                   bias_initializer=tf.initializers.constant(0))\n",
    "    else:\n",
    "        raise Exception('LSTM cell is empty', 'Please fill the CPU/GPU_CUDNN params!!!') \n",
    "    \n",
    "    # Creates a recurrent neural network specified by RNNCell cell.\n",
    "    lstm_out, _ = tf.contrib.rnn.static_rnn(cell=lstm_cell, \n",
    "                                            inputs=X,\n",
    "                                            dtype=tf.float32)\n",
    "    # Dropout layer\n",
    "    dropout = tf.layers.dropout(inputs=lstm_out, \n",
    "                               rate=0.5,\n",
    "                               training=isTraining)\n",
    "    \n",
    "    # Fully connected layer\n",
    "    # weights_initializer is gaussian distribution\n",
    "    # bias_initializer is constant by zero\n",
    "    fc = tf.contrib.layers.fully_connected(inputs=dropout,\n",
    "                                            num_outputs=num_classes,\n",
    "                                            activation_fn=None,\n",
    "                                            weights_initializer=tf.initializers.truncated_normal(stddev=0.01),\n",
    "                                            bias_initializer=tf.initializers.constant(0))\n",
    "    \n",
    "    # Batch Norm + Scale layer\n",
    "    batch_norm = tf.layers.batch_normalization(inputs=fc,\n",
    "                                                axis=2,\n",
    "                                                training=isTraining)\n",
    "    \n",
    "    # ReLU activation\n",
    "    relu = tf.nn.relu_layer(batch_norm)\n",
    "    \n",
    "    lstm_last_output = outputs[-1]\n",
    "    return lstm_last_output\n",
    "    "
   ]
  },
  {
   "cell_type": "code",
   "execution_count": null,
   "metadata": {},
   "outputs": [],
   "source": [
    "def one_hot(y_, n_classes=n_classes):\n",
    "    # Function to encode neural one-hot output labels from number indexes \n",
    "    # e.g.: \n",
    "    # one_hot(y_=[[5], [0], [3]], n_classes=6):\n",
    "    #     return [[0, 0, 0, 0, 0, 1], [1, 0, 0, 0, 0, 0], [0, 0, 0, 1, 0, 0]]\n",
    "    \n",
    "    y_ = y_.reshape(len(y_))\n",
    "    return np.eye(n_classes)[np.array(y_, dtype=np.int32)]  # Returns FLOATS"
   ]
  },
  {
   "cell_type": "code",
   "execution_count": null,
   "metadata": {},
   "outputs": [],
   "source": []
  }
 ],
 "metadata": {
  "kernelspec": {
   "display_name": "Python 3",
   "language": "python",
   "name": "python3"
  },
  "language_info": {
   "codemirror_mode": {
    "name": "ipython",
    "version": 3
   },
   "file_extension": ".py",
   "mimetype": "text/x-python",
   "name": "python",
   "nbconvert_exporter": "python",
   "pygments_lexer": "ipython3",
   "version": "3.6.5"
  }
 },
 "nbformat": 4,
 "nbformat_minor": 2
}
